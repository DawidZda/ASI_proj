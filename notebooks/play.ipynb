{
 "cells": [
  {
   "cell_type": "code",
   "execution_count": 3,
   "id": "60eb4418",
   "metadata": {},
   "outputs": [],
   "source": [
    "from little_help import load_csv, get_train_and_test_sets_target_encoded\n",
    "# Teraz standaryzacja\n",
    "from sklearn.preprocessing import StandardScaler, OrdinalEncoder\n",
    "from sklearn.decomposition import PCA\n",
    "from sklearn.cluster import KMeans\n",
    "from sklearn.metrics import accuracy_score\n",
    "from scipy.stats import mode\n",
    "import numpy as np\n",
    "from sklearn.linear_model import LogisticRegression\n",
    "from sklearn.model_selection import train_test_split\n"
   ]
  },
  {
   "cell_type": "code",
   "execution_count": 4,
   "id": "e7677ec7",
   "metadata": {},
   "outputs": [
    {
     "name": "stdout",
     "output_type": "stream",
     "text": [
      "Wczytanie danych ...\n",
      "   age          workclass   fnlwgt   education   education-num  \\\n",
      "0   39          State-gov    77516   Bachelors              13   \n",
      "1   50   Self-emp-not-inc    83311   Bachelors              13   \n",
      "2   38            Private   215646     HS-grad               9   \n",
      "3   53            Private   234721        11th               7   \n",
      "4   28            Private   338409   Bachelors              13   \n",
      "\n",
      "        marital-status          occupation    relationship    race      sex  \\\n",
      "0        Never-married        Adm-clerical   Not-in-family   White     Male   \n",
      "1   Married-civ-spouse     Exec-managerial         Husband   White     Male   \n",
      "2             Divorced   Handlers-cleaners   Not-in-family   White     Male   \n",
      "3   Married-civ-spouse   Handlers-cleaners         Husband   Black     Male   \n",
      "4   Married-civ-spouse      Prof-specialty            Wife   Black   Female   \n",
      "\n",
      "    capital-gain   capital-loss   hours-per-week  native-country  income  \n",
      "0           2174              0               40   United-States   <=50K  \n",
      "1              0              0               13   United-States   <=50K  \n",
      "2              0              0               40   United-States   <=50K  \n",
      "3              0              0               40   United-States   <=50K  \n",
      "4              0              0               40            Cuba   <=50K  \n"
     ]
    }
   ],
   "source": [
    "print(\"Wczytanie danych ...\")\n",
    "data = load_csv('income_evaluation.csv')\n",
    "print(data.head())"
   ]
  },
  {
   "cell_type": "code",
   "execution_count": 5,
   "id": "bd2f72fb",
   "metadata": {},
   "outputs": [
    {
     "name": "stdout",
     "output_type": "stream",
     "text": [
      "['age', ' workclass', ' fnlwgt', ' education', ' education-num', ' marital-status', ' occupation', ' relationship', ' race', ' sex', ' capital-gain', ' capital-loss', ' hours-per-week', ' native-country', ' income']\n"
     ]
    }
   ],
   "source": [
    "print(data.columns.tolist())\n",
    "\n",
    "\n",
    "X_train, X_test, y_train, y_test = get_train_and_test_sets_target_encoded(data, \" income\")"
   ]
  },
  {
   "cell_type": "code",
   "execution_count": 6,
   "id": "3e1a3f00",
   "metadata": {},
   "outputs": [
    {
     "name": "stdout",
     "output_type": "stream",
     "text": [
      "Dokładność KMeans + PCA: 0.7564870259481038\n"
     ]
    }
   ],
   "source": [
    "\n",
    "#1. Normalizacja\n",
    "encoder = OrdinalEncoder(handle_unknown='use_encoded_value', unknown_value=-1)\n",
    "X_encoded_train = encoder.fit_transform(X_train)\n",
    "X_encoded_test = encoder.transform(X_test)\n",
    "\n",
    "# 2. Standaryzacja\n",
    "scaler = StandardScaler()\n",
    "X_train_scaled = scaler.fit_transform(X_encoded_train)\n",
    "X_test_scaled = scaler.transform(X_encoded_test)\n",
    "\n",
    "# 3. PCA - redukcja wymiarowości\n",
    "pca = PCA(n_components=10)  # redukujemy do 10 komponentów\n",
    "X_train_pca = pca.fit_transform(X_train_scaled)\n",
    "X_test_pca = pca.transform(X_test_scaled)\n",
    "\n",
    "# 4. KMeans - klasteryzacja\n",
    "kmeans = KMeans(n_clusters=2, random_state=42)\n",
    "kmeans.fit(X_train_pca)\n",
    "\n",
    "# 5. Majority voting - przypisanie etykiet do klastrów\n",
    "cluster_labels = np.zeros_like(kmeans.labels_)\n",
    "for i in range(2):\n",
    "    mask = (kmeans.labels_ == i)\n",
    "    values, counts = np.unique(y_train[mask], return_counts=True)\n",
    "    cluster_labels[mask] = values[np.argmax(counts)]\n",
    "\n",
    "# 6. Predykcja na danych testowych\n",
    "test_clusters = kmeans.predict(X_test_pca)\n",
    "\n",
    "test_labels = np.zeros_like(test_clusters)\n",
    "for i in range(2):\n",
    "    mask = (kmeans.labels_ == i)\n",
    "    values, counts = np.unique(y_train[mask], return_counts=True)\n",
    "    test_labels[test_clusters == i] = values[np.argmax(counts)]\n",
    "\n",
    "# 7. Ocena\n",
    "print(\"Dokładność KMeans + PCA:\", accuracy_score(y_test, test_labels))\n"
   ]
  },
  {
   "cell_type": "code",
   "execution_count": 7,
   "id": "a7879502",
   "metadata": {},
   "outputs": [
    {
     "name": "stdout",
     "output_type": "stream",
     "text": [
      "Wczytanie danych ...\n",
      "   age          workclass   fnlwgt   education   education-num  \\\n",
      "0   39          State-gov    77516   Bachelors              13   \n",
      "1   50   Self-emp-not-inc    83311   Bachelors              13   \n",
      "2   38            Private   215646     HS-grad               9   \n",
      "3   53            Private   234721        11th               7   \n",
      "4   28            Private   338409   Bachelors              13   \n",
      "\n",
      "        marital-status          occupation    relationship    race      sex  \\\n",
      "0        Never-married        Adm-clerical   Not-in-family   White     Male   \n",
      "1   Married-civ-spouse     Exec-managerial         Husband   White     Male   \n",
      "2             Divorced   Handlers-cleaners   Not-in-family   White     Male   \n",
      "3   Married-civ-spouse   Handlers-cleaners         Husband   Black     Male   \n",
      "4   Married-civ-spouse      Prof-specialty            Wife   Black   Female   \n",
      "\n",
      "    capital-gain   capital-loss   hours-per-week  native-country  income  \n",
      "0           2174              0               40   United-States   <=50K  \n",
      "1              0              0               13   United-States   <=50K  \n",
      "2              0              0               40   United-States   <=50K  \n",
      "3              0              0               40   United-States   <=50K  \n",
      "4              0              0               40            Cuba   <=50K  \n",
      "Accuracy: 0.7867342238599724\n"
     ]
    },
    {
     "name": "stderr",
     "output_type": "stream",
     "text": [
      "c:\\home\\szkoła\\rok 4 semestr 2\\ASI\\cw\\projekt\\notebooks\\.venv\\Lib\\site-packages\\sklearn\\linear_model\\_logistic.py:465: ConvergenceWarning: lbfgs failed to converge (status=1):\n",
      "STOP: TOTAL NO. OF ITERATIONS REACHED LIMIT.\n",
      "\n",
      "Increase the number of iterations (max_iter) or scale the data as shown in:\n",
      "    https://scikit-learn.org/stable/modules/preprocessing.html\n",
      "Please also refer to the documentation for alternative solver options:\n",
      "    https://scikit-learn.org/stable/modules/linear_model.html#logistic-regression\n",
      "  n_iter_i = _check_optimize_result(\n"
     ]
    }
   ],
   "source": [
    "print(\"Wczytanie danych ...\")\n",
    "df = load_csv('income_evaluation.csv')\n",
    "\n",
    "df = df.dropna()\n",
    "\n",
    "print(df.head())\n",
    "\n",
    "X = df.drop(\" income\", axis=1)\n",
    "y = df[\" income\"]\n",
    "cat_cols = X.select_dtypes(include=['object']).columns.tolist()\n",
    "\n",
    "    # Zastosuj OrdinalEncoder do kolumn kategorycznych\n",
    "encoder = OrdinalEncoder()\n",
    "if cat_cols:\n",
    "    X[cat_cols] = encoder.fit_transform(X[cat_cols])\n",
    "\n",
    "# Podział na dane treningowe i testowe\n",
    "X_train, X_test, y_train, y_test = train_test_split(X, y, test_size=0.2, random_state=42)\n",
    "\n",
    "    # Trening modelu\n",
    "model = LogisticRegression()\n",
    "model.fit(X_train, y_train)\n",
    "\n",
    "preds = model.predict(X_test)\n",
    "\n",
    "acc = accuracy_score(y_test, preds)\n",
    "\n",
    "print(f\"Accuracy: {acc}\")"
   ]
  }
 ],
 "metadata": {
  "kernelspec": {
   "display_name": ".venv",
   "language": "python",
   "name": "python3"
  },
  "language_info": {
   "codemirror_mode": {
    "name": "ipython",
    "version": 3
   },
   "file_extension": ".py",
   "mimetype": "text/x-python",
   "name": "python",
   "nbconvert_exporter": "python",
   "pygments_lexer": "ipython3",
   "version": "3.12.10"
  }
 },
 "nbformat": 4,
 "nbformat_minor": 5
}
